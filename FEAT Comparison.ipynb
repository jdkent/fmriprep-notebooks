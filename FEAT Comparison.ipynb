{
 "cells": [
  {
   "cell_type": "code",
   "execution_count": 1,
   "metadata": {
    "collapsed": true
   },
   "outputs": [],
   "source": [
    "# %matplotlib inline\n",
    "import os\n",
    "import glob\n",
    "from pathlib import Path\n",
    "\n",
    "import matplotlib as mpl\n",
    "mpl.use('pgf')\n",
    "from matplotlib import pyplot as plt\n",
    "from matplotlib import gridspec\n",
    "\n",
    "import numpy as np\n",
    "import nibabel as nb\n",
    "import seaborn as sn\n",
    "from nilearn.image import concat_imgs\n",
    "\n",
    "sn.set_style(\"whitegrid\", {\n",
    "    'ytick.major.size': 5,\n",
    "    'xtick.major.size': 5,\n",
    "})\n",
    "sn.set_context(\"notebook\", font_scale=1)\n",
    "\n",
    "pgf_with_custom_preamble = {\n",
    "    'ytick.major.size': 0,\n",
    "    'xtick.major.size': 0,\n",
    "    'font.sans-serif': ['HelveticaLTStd-Light'],\n",
    "    'font.family': 'sans-serif', # use serif/main font for text elements\n",
    "    'text.usetex': False,    # use inline math for ticks\n",
    "}\n",
    "mpl.rcParams.update(pgf_with_custom_preamble)\n",
    "\n",
    "\n",
    "pgf_with_custom_preamble = {\n",
    "#     'font.sans-serif': ['Helvetica Light'],\n",
    "#     'font.family': 'sans-serif', # use serif/main font for text elements\n",
    "    'text.usetex': True,    # use inline math for ticks\n",
    "    'pgf.rcfonts': False,   # don't setup fonts from rc parameters\n",
    "    'pgf.texsystem': 'xelatex',\n",
    "    'verbose.level': 'debug-annoying',\n",
    "    \"pgf.preamble\": [\n",
    "#         r'\\renewcommand{\\sfdefault}{phv}',\n",
    "#         r'\\usepackage[scaled=.92]{helvet}',\n",
    "        r\"\"\"\\usepackage{fontspec}\n",
    "\\setsansfont{HelveticaLTStd-Light}[\n",
    "Extension=.otf,\n",
    "BoldFont=HelveticaLTStd-Bold,\n",
    "ItalicFont=HelveticaLTStd-LightObl,\n",
    "BoldItalicFont=HelveticaLTStd-BoldObl,\n",
    "]\n",
    "\\setmainfont{HelveticaLTStd-Light}[\n",
    "Extension=.otf,\n",
    "BoldFont=HelveticaLTStd-Bold,\n",
    "ItalicFont=HelveticaLTStd-LightObl,\n",
    "BoldItalicFont=HelveticaLTStd-BoldObl,\n",
    "]\n",
    "\\setmonofont{Inconsolata-dz}\n",
    "\"\"\",\n",
    "        r'\\renewcommand\\familydefault{\\sfdefault}',\n",
    "#         r'\\setsansfont[Extension=.otf]{Helvetica-LightOblique}',\n",
    "#         r'\\setmainfont[Extension=.ttf]{DejaVuSansCondensed}',\n",
    "#         r'\\setmainfont[Extension=.otf]{FiraSans-Light}',\n",
    "#         r'\\setsansfont[Extension=.otf]{FiraSans-Light}',\n",
    "    ]\n",
    "}\n",
    "mpl.rcParams.update(pgf_with_custom_preamble)"
   ]
  },
  {
   "cell_type": "code",
   "execution_count": 2,
   "metadata": {
    "collapsed": true
   },
   "outputs": [],
   "source": [
    "from nilearn import plotting"
   ]
  },
  {
   "cell_type": "code",
   "execution_count": 3,
   "metadata": {
    "collapsed": true
   },
   "outputs": [],
   "source": [
    "derivs_home = os.path.expanduser('~/tmp/sherlock')\n",
    "work_dir = os.path.expanduser('~/tmp/sherlock-work')\n",
    "fprep_home = os.path.join(derivs_home, 'fmriprep-1.0.3', 'fmriprep')\n",
    "fprep_pattern = os.path.join(fprep_home, 'sub-*', 'func',\n",
    "                             'sub-*_task-stopsignal_bold_space-MNI152NLin2009cAsym_preproc.nii.gz')"
   ]
  },
  {
   "cell_type": "code",
   "execution_count": 4,
   "metadata": {
    "collapsed": true
   },
   "outputs": [],
   "source": [
    "if not os.path.isfile(os.path.join(work_dir, 'fmriprep_std.nii.gz')):\n",
    "    fprep_files = glob.glob(os.path.join(fprep_home, 'sub-*', 'func',\n",
    "                            'sub-*_task-stopsignal_bold_space-MNI152NLin2009cAsym_preproc.nii.gz'))\n",
    "    all_mus = []\n",
    "    for f in fprep_files:\n",
    "        nii = nb.load(f)\n",
    "        std = nii.get_data().mean(3)\n",
    "        newnii = nb.Nifti1Image(std, nii.affine, nii.header)\n",
    "        newnii.set_data_dtype(float)\n",
    "        all_mus.append(newnii)\n",
    "\n",
    "    meannii = concat_imgs(all_mus, auto_resample=True)\n",
    "    meannii.to_filename(os.path.join(work_dir, 'fmriprep_means.nii.gz'))\n",
    "\n",
    "    nb.Nifti1Image(meannii.get_data().std(3), meannii.affine, meannii.header).to_filename(\n",
    "        os.path.join(work_dir, 'fmriprep_std.nii.gz'))\n",
    "    "
   ]
  },
  {
   "cell_type": "code",
   "execution_count": 5,
   "metadata": {
    "collapsed": true
   },
   "outputs": [],
   "source": [
    "if not os.path.isfile(os.path.join(work_dir, 'feat_std.nii.gz')):\n",
    "    feat_home = os.path.join(derivs_home, 'fslfeat_5.0.9')\n",
    "    feat_files = glob.glob(os.path.join(feat_home, 'sub-*.feat', 'reg',\n",
    "                           'example_func2standard.nii.gz'))\n",
    "\n",
    "    meannii = concat_imgs([nb.load(f) for f in feat_files], auto_resample=True)\n",
    "    meannii.to_filename(os.path.join(work_dir, 'feat_means.nii.gz'))\n",
    "\n",
    "    nb.Nifti1Image(meannii.get_data().std(3), meannii.affine, meannii.header).to_filename(\n",
    "        os.path.join(work_dir, 'feat_std.nii.gz'))"
   ]
  },
  {
   "cell_type": "code",
   "execution_count": 6,
   "metadata": {
    "collapsed": true
   },
   "outputs": [],
   "source": [
    "import nilearn as nl\n",
    "\n",
    "fmriprep_std = nb.load(os.path.join(work_dir, 'fmriprep_std.nii.gz'))\n",
    "feat_std = nb.load(os.path.join(work_dir, 'feat_std.nii.gz'))\n",
    "bmask = nb.load(os.path.expanduser('/home/oesteban/.cache/stanford-crn/mni_icbm152_nlin_asym_09c/2mm_brainmask.nii.gz')).get_data()\n",
    "\n",
    "newmask = nl.image.resample_to_img(os.path.expanduser('/home/oesteban/.cache/stanford-crn/mni_icbm152_nlin_asym_09c/2mm_brainmask.nii.gz'), os.path.join(work_dir, 'fmriprep_std.nii.gz'), interpolation='nearest')"
   ]
  },
  {
   "cell_type": "code",
   "execution_count": 7,
   "metadata": {},
   "outputs": [
    {
     "name": "stderr",
     "output_type": "stream",
     "text": [
      "/home/oesteban/.anaconda3/lib/python3.6/site-packages/matplotlib/contour.py:1173: UserWarning: No contour levels were found within the data range.\n",
      "  warnings.warn(\"No contour levels were found\"\n",
      "/home/oesteban/.anaconda3/lib/python3.6/site-packages/matplotlib/contour.py:1173: UserWarning: No contour levels were found within the data range.\n",
      "  warnings.warn(\"No contour levels were found\"\n",
      "/home/oesteban/.anaconda3/lib/python3.6/site-packages/matplotlib/axes/_axes.py:6462: UserWarning: The 'normed' kwarg is deprecated, and has been replaced by the 'density' kwarg.\n",
      "  warnings.warn(\"The 'normed' kwarg is deprecated, and has been \"\n"
     ]
    }
   ],
   "source": [
    "fig = plt.gcf()\n",
    "_ = fig.set_size_inches(15, 2 * 3.1)\n",
    "gs = gridspec.GridSpec(2, 2, width_ratios=[6, 1], height_ratios=[1, 1],  hspace=0.0, wspace=0.0)\n",
    "\n",
    "ax1 = plt.subplot(gs[0, :-1])\n",
    "\n",
    "disp = plotting.plot_anat(os.path.join(work_dir, 'fmriprep_std.nii.gz'), display_mode='z',\n",
    "                          cut_coords=[-15, -5, 10, 20, 40], cmap='cividis', threshold=30, vmin=50, vmax=150,\n",
    "                          axes=ax1)\n",
    "disp.add_contours(os.path.expanduser('/home/oesteban/.cache/stanford-crn/mni_icbm152_nlin_asym_09c/1mm_tpm_csf.nii.gz'), colors=['k'], levels=[0.8])\n",
    "disp.add_contours(os.path.expanduser('/home/oesteban/.cache/stanford-crn/mni_icbm152_nlin_asym_09c/1mm_tpm_wm.nii.gz'), colors=['w'], levels=[0.8], linewidths=[1], alpha=0.7)\n",
    "disp.add_contours(os.path.expanduser('/home/oesteban/.cache/stanford-crn/mni_icbm152_nlin_asym_09c/1mm_brainmask.nii.gz'), colors=['k'], levels=[0.8], linewidths=[3], alpha=.7)\n",
    "\n",
    "ax2 = plt.subplot(gs[1, :-1])\n",
    "disp = plotting.plot_anat(os.path.join(work_dir, 'feat_std.nii.gz'), display_mode='z',\n",
    "                          cut_coords=[-15, -5, 10, 20, 40], cmap='cividis', threshold=30, vmin=50, vmax=150,\n",
    "                          axes=ax2)\n",
    "disp.add_contours(os.path.expanduser('/home/oesteban/.cache/stanford-crn/mni_icbm152_nlin_asym_09c/1mm_tpm_csf.nii.gz'), colors=['k'], levels=[0.8])\n",
    "disp.add_contours(os.path.expanduser('/home/oesteban/.cache/stanford-crn/mni_icbm152_nlin_asym_09c/1mm_tpm_wm.nii.gz'), colors=['w'], levels=[0.8], linewidths=[1], alpha=0.7)\n",
    "disp.add_contours(os.path.expanduser('/home/oesteban/.cache/stanford-crn/mni_icbm152_nlin_asym_09c/1mm_brainmask.nii.gz'), colors=['k'], levels=[0.8], linewidths=[3], alpha=.7)\n",
    "\n",
    "ax1.annotate(\n",
    "    'fMRIPrep',\n",
    "    xy=(0., .5), xycoords='axes fraction', xytext=(-24, .0),\n",
    "    textcoords='offset points', va='center', color='k', size=24,\n",
    "    rotation=90)\n",
    "\n",
    "ax2.annotate(\n",
    "    r'\\texttt{feat}',\n",
    "    xy=(0., .5), xycoords='axes fraction', xytext=(-24, .0),\n",
    "    textcoords='offset points', va='center', color='k', size=24,\n",
    "    rotation=90)\n",
    "\n",
    "\n",
    "inner_grid = gridspec.GridSpecFromSubplotSpec(1, 2, width_ratios=[1, 15],\n",
    "                                              subplot_spec=gs[:, 1], wspace=0.01)\n",
    "\n",
    "ax3 = fig.add_subplot(inner_grid[0])\n",
    "gradient = np.hstack((np.zeros((50,)), np.linspace(0, 1, 120), np.ones((130,))))[::-1]\n",
    "gradient = np.vstack((gradient, gradient))\n",
    "ax3.imshow(gradient.T, aspect='auto', cmap=plt.get_cmap('cividis'))\n",
    "ax3.xaxis.set_ticklabels([])\n",
    "ax3.xaxis.set_ticks([])\n",
    "ax3.yaxis.set_ticklabels([])\n",
    "ax3.yaxis.set_ticks([])\n",
    "\n",
    "ax4 = fig.add_subplot(inner_grid[1])\n",
    "sn.distplot(fmriprep_std.get_data()[newmask.get_data() > 0], label='fMRIPrep', vertical=True, ax=ax4)\n",
    "sn.distplot(feat_std.get_data()[bmask == 1], label=r'\\texttt{feat}', vertical=True, color='darkorange', ax=ax4)\n",
    "\n",
    "plt.gca().set_ylim((0, 300))\n",
    "plt.legend(prop={'size': 20}, edgecolor='none')\n",
    "\n",
    "ax4.xaxis.set_ticklabels([])\n",
    "ax4.xaxis.set_ticks([])\n",
    "ax4.yaxis.set_ticklabels([])\n",
    "ax4.yaxis.set_ticks([])\n",
    "\n",
    "plt.axis('off')\n",
    "ax3.axis('off')\n",
    "ax4.axis('off')\n",
    "\n",
    "plt.savefig(str(Path.home() / 'Dropbox' / 'My Publications' / '2017-FMRIPREP' / 'figures' / 'fmriprep-feat-std.pdf'),\n",
    "            format='pdf', bbox_inches='tight', pad_inches=0.2, dpi=300)"
   ]
  },
  {
   "cell_type": "code",
   "execution_count": null,
   "metadata": {
    "collapsed": true
   },
   "outputs": [],
   "source": [
    "for i, coords in enumerate([-5, 10, 20]):\n",
    "    disp = plotting.plot_anat(os.path.join(work_dir, 'fmriprep_std.nii.gz'), display_mode='z', cut_coords=[coords], cmap='viridis', threshold=30, vmin=50, vmax=170)\n",
    "    f = plt.gcf().set_size_inches(10, 20)\n",
    "    disp.add_contours(os.path.expanduser('/home/oesteban/.cache/stanford-crn/mni_icbm152_nlin_asym_09c/1mm_tpm_csf.nii.gz'), colors=['k'], levels=[0.8])\n",
    "    disp.add_contours(os.path.expanduser('/home/oesteban/.cache/stanford-crn/mni_icbm152_nlin_asym_09c/1mm_tpm_wm.nii.gz'), colors=['w'], levels=[0.8], alpha=0.7)\n",
    "    disp.add_contours(os.path.expanduser('/home/oesteban/.cache/stanford-crn/mni_icbm152_nlin_asym_09c/1mm_brainmask.nii.gz'), colors=['k'], levels=[0.8], linewidths=[3], alpha=.7)\n",
    "    plt.savefig(os.path.join(work_dir, 'fmriprep-std-closeup%03d.svg' % i), format='svg', bbox_inches='tight')"
   ]
  },
  {
   "cell_type": "code",
   "execution_count": null,
   "metadata": {
    "collapsed": true
   },
   "outputs": [],
   "source": [
    "for i, coords in enumerate([-5, 10, 20]):\n",
    "    disp = plotting.plot_anat(os.path.join(work_dir, 'feat_std.nii.gz'), display_mode='z', cut_coords=[coords], cmap='viridis', threshold=30, vmin=50, vmax=170)\n",
    "    f = plt.gcf().set_size_inches(10, 20)\n",
    "    disp.add_contours(os.path.expanduser('/home/oesteban/.cache/stanford-crn/mni_icbm152_nlin_asym_09c/1mm_tpm_csf.nii.gz'), colors=['k'], levels=[0.8])\n",
    "    disp.add_contours(os.path.expanduser('/home/oesteban/.cache/stanford-crn/mni_icbm152_nlin_asym_09c/1mm_tpm_wm.nii.gz'), colors=['w'], levels=[0.8], alpha=0.7)\n",
    "    disp.add_contours(os.path.expanduser('/home/oesteban/.cache/stanford-crn/mni_icbm152_nlin_asym_09c/1mm_brainmask.nii.gz'), colors=['k'], levels=[0.8], linewidths=[3], alpha=.7)\n",
    "    plt.savefig(os.path.join(work_dir, 'feat-std-closeup%03d.svg' % i), format='svg', bbox_inches='tight')"
   ]
  },
  {
   "cell_type": "code",
   "execution_count": null,
   "metadata": {
    "collapsed": true
   },
   "outputs": [],
   "source": [
    "feat_files[137]"
   ]
  },
  {
   "cell_type": "code",
   "execution_count": null,
   "metadata": {
    "collapsed": true
   },
   "outputs": [],
   "source": [
    "disp = plotting.plot_glass_brain(os.path.join(work_dir, 'feat_std.nii.gz'))"
   ]
  }
 ],
 "metadata": {
  "kernelspec": {
   "display_name": "Python 3",
   "language": "python",
   "name": "python3"
  },
  "language_info": {
   "codemirror_mode": {
    "name": "ipython",
    "version": 3
   },
   "file_extension": ".py",
   "mimetype": "text/x-python",
   "name": "python",
   "nbconvert_exporter": "python",
   "pygments_lexer": "ipython3",
   "version": "3.6.4"
  }
 },
 "nbformat": 4,
 "nbformat_minor": 2
}
